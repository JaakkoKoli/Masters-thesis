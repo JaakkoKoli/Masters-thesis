{
 "cells": [
  {
   "cell_type": "code",
   "execution_count": 1,
   "metadata": {},
   "outputs": [],
   "source": [
    "from functions.dataProcessing import *\n",
    "from functions.kernels import *\n",
    "from functions.models import *\n",
    "from functions.acquisitionFunctions import *\n",
    "from timeit import default_timer as timer\n",
    "\n",
    "df = readData()"
   ]
  },
  {
   "cell_type": "code",
   "execution_count": 2,
   "metadata": {},
   "outputs": [],
   "source": [
    "def modelFit2(par, subjD, rounds, returnPredictions=False):\n",
    "    tau = np.exp(float(par[0]))\n",
    "    beta = np.exp(float(par[1]))\n",
    "    lam = np.exp(float(par[2]))\n",
    "    parVec = [lam, lam, 1, 0.0001]\n",
    "    \n",
    "    Xnew = [[x, y] for y in range(8) for x in range(8)]\n",
    "    nLL = [0]*len(rounds)\n",
    "    utilities = None\n",
    "    for r in rounds:\n",
    "        roundD = np.array(subjD[\"round\"]) == r\n",
    "        chosen = np.array(subjD[\"chosen\"])[roundD]\n",
    "        chosen = chosen[1:20]\n",
    "        y = np.array(subjD[\"z\"])[roundD]\n",
    "        y = y[0:20]\n",
    "        x1 = np.array(subjD[\"x\"])[roundD]\n",
    "        x1 = x1[0:20]\n",
    "        x2 = np.array(subjD[\"y\"])[roundD]\n",
    "        x2 = x2[0:20]\n",
    "        X = np.column_stack((x1,x2))\n",
    "\n",
    "        utilities = None\n",
    "        for i in range(19):\n",
    "            X1 = np.matrix(X[0:i+1,:])\n",
    "            y1 = np.matrix(y[0:i+1])\n",
    "            out = gpr(Xnew, parVec, X1, y1, rbf)\n",
    "            utilityVec = ucb(out, [beta])\n",
    "            utilityVec = utilityVec - np.max(utilityVec)\n",
    "            if i==0:\n",
    "                utilities = utilityVec\n",
    "            else:\n",
    "                utilities = np.row_stack((utilities, utilityVec))\n",
    "        p = np.exp(utilities / tau)\n",
    "        p = p / np.sum(p, 1)\n",
    "        p[p < 0.00001] = 0.00001\n",
    "        p[p > 0.99999] = 0.99999\n",
    "        a = [[x, chosen[x]] for x in range(19)]\n",
    "        nLL[[x for x in range(len(rounds)) if rounds[x]==r][0]] = -np.sum(np.log([p[x[0], x[1]] for x in a]))\n",
    "        #clear_output(wait=True)\n",
    "        #print(str(r+1) + \"/\" + str(len(rounds)))\n",
    "    if returnPredictions:\n",
    "        return {\"sumLogLoss\": np.sum(nLL), \"predictions\": p, \"chosen\": chosen}\n",
    "    else:\n",
    "        return np.sum(nLL)\n",
    "    \n",
    "def modelFit(par, subjD, rounds, returnPredictions=False):\n",
    "    tau = float(par[\"tau\"])\n",
    "    lam = float(par[\"lambda\"])\n",
    "    beta = float(par[\"beta\"])\n",
    "    return modelFit2([tau, beta, lam], subjD, rounds, returnPredictions)"
   ]
  },
  {
   "cell_type": "code",
   "execution_count": 4,
   "metadata": {},
   "outputs": [
    {
     "data": {
      "text/plain": [
       "799.150157848398"
      ]
     },
     "execution_count": 4,
     "metadata": {},
     "output_type": "execute_result"
    }
   ],
   "source": [
    "# Test\n",
    "modelFit2([0.953290334560277,0.14184440300399,0.0706500217485385], df.iloc[0], [x for x in range(10)], False)"
   ]
  },
  {
   "cell_type": "code",
   "execution_count": 3,
   "metadata": {},
   "outputs": [],
   "source": [
    "import scipy.optimize as sco\n",
    "\n",
    "def cvfunc(data, task, selector, leaveoutindex):\n",
    "    d1 = [data.iloc[x] for x in range(len(data)) if data.iloc[x][\"id\"][0] == selector][0].copy()\n",
    "    b = [d1[\"context\"][x]==task for x in range(len(d1[\"context\"]))]\n",
    "    for i in range(len(d1)):\n",
    "        d1[i] = [d1[i][x] for x in range(len(d1[i])) if b[x]]\n",
    "        \n",
    "    rounds = [x for x in range(9)]\n",
    "    trainingSet = [rounds[x] for x in range(len(rounds)) if x != leaveoutindex]\n",
    "    testSet = rounds[leaveoutindex]\n",
    "    bounds = [(-5,5),(-5,5),(-5,5)]\n",
    "    fit = sco.differential_evolution(modelFit2, bounds, (d1, trainingSet, False), disp=True, maxiter=20)\n",
    "    paramEstimates = fit.x\n",
    "    print(fit)\n",
    "    \n",
    "    \n",
    "    predict = modelFit2(paramEstimates, d1, [testSet], True)\n",
    "    cvresults = {\"loo\": leaveoutindex, \"nLL\": predict[\"sumLogLoss\"], \"tau\": paramEstimates[0], \"lambda\": paramEstimates[1], \"beta\": paramEstimates[2]}\n",
    "    return [cvresults, predict[\"predictions\"], predict[\"chosen\"]]"
   ]
  },
  {
   "cell_type": "code",
   "execution_count": null,
   "metadata": {},
   "outputs": [],
   "source": [
    "# Cross validation\n",
    "start = timer()\n",
    "\n",
    "crossvalidation = [0]*9\n",
    "modelPrediction = [np.zeros((19,64)) for x in range(9)]\n",
    "chosenMatrix = np.zeros((9,19))\n",
    "\n",
    "print(\"0/9\")\n",
    "for loo in range(9):\n",
    "    cv = cvfunc(data=df, task=\"Conceptual\", selector = 1, leaveoutindex=loo)\n",
    "    crossvalidation[loo] = cv[0]\n",
    "    modelPrediction[loo] = cv[1]\n",
    "    chosenMatrix[loo,:] = cv[2]\n",
    "    clear_output(wait=True)\n",
    "    print(str(loo+1) + \"/9\")\n",
    "end = timer()\n",
    "print(end - start)"
   ]
  }
 ],
 "metadata": {
  "kernelspec": {
   "display_name": "Python 3",
   "language": "python",
   "name": "python3"
  },
  "language_info": {
   "codemirror_mode": {
    "name": "ipython",
    "version": 3
   },
   "file_extension": ".py",
   "mimetype": "text/x-python",
   "name": "python",
   "nbconvert_exporter": "python",
   "pygments_lexer": "ipython3",
   "version": "3.8.3"
  }
 },
 "nbformat": 4,
 "nbformat_minor": 4
}
