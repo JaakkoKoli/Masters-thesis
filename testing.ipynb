{
 "cells": [
  {
   "cell_type": "code",
   "execution_count": 21,
   "metadata": {},
   "outputs": [],
   "source": [
    "from functions.dataProcessing import *\n",
    "from functions.kernels import *\n",
    "from functions.models import *\n",
    "from functions.acquisitionFunctions import *\n",
    "\n",
    "df = readData()"
   ]
  },
  {
   "cell_type": "code",
   "execution_count": 15,
   "metadata": {},
   "outputs": [],
   "source": [
    "import scipy as scp\n",
    "\n",
    "def rbf2(x1,x2,theta):\n",
    "    N = np.shape(x1)[0]\n",
    "    d = np.shape(x1)[1]\n",
    "    sigma = np.matrix((np.subtract.outer(x1,x2)/theta[0])**2).T\n",
    "    return theta[d]*np.exp(-0.5 * sigma) + theta[d+1]*np.identity(N)\n",
    "\n",
    "def gpr_first(X_test, theta, X, Y, k):\n",
    "    Xstar = np.matrix(X_test)\n",
    "    K = k(X, X, theta)\n",
    "    KK_inv = np.linalg.cholesky(K)\n",
    "    Ky = KK_inv.dot(Y.T)\n",
    "    mus = [0]*np.shape(Xstar)[0]\n",
    "    sigs = [0]*np.shape(Xstar)[0]\n",
    "    \n",
    "    \n",
    "    for i in range(np.shape(Xstar)[0]):\n",
    "        XX = Xstar[i]\n",
    "        Kstar = k(X, XX, theta)\n",
    "        Kstarstar = k(XX,XX,theta)\n",
    "        mu = Kstar.T.dot(Ky)\n",
    "        cv = Kstarstar - (Kstar.T.dot(KK_inv).dot(Kstar))\n",
    "        if cv < 0:\n",
    "            cv = abs(cv)\n",
    "        mus[i] = float(mu)\n",
    "        sigs[i] = float(cv)\n",
    "    return pd.DataFrame({\"mu\": mus, \"sig\": sigs}), K, KK_inv\n",
    "\n",
    "def gpr_sequential(X_test, theta, X, Y, k, old_K, old_KK_inv):\n",
    "    Xstar = np.matrix(X_test)\n",
    "    K = k(X, X, theta)\n",
    "    KK_inv = np.zeros([len(old_K[:,0])+1,len(old_K[:,0])+1])\n",
    "    KK_inv[:-1,:-1] = old_KK_inv\n",
    "    X1 = K[-1,:-1]\n",
    "    X2 = K[-1,-1]\n",
    "    a = scp.linalg.solve_triangular(old_KK_inv, X1.T)\n",
    "    KK_inv[-1,:-1] = a.T\n",
    "    print(a.T)\n",
    "    print(X1.dot(np.linalg.inv(old_KK_inv).T))\n",
    "    print(a.T.dot(a))\n",
    "    print(isPositiveDefinite(X2 - a.T.dot(a)))\n",
    "    KK_inv[-1,-1] = np.linalg.cholesky(X2 - a.T.dot(a))\n",
    "    Ky = KK_inv.dot(Y.T)\n",
    "    mus = [0]*np.shape(Xstar)[0]\n",
    "    sigs = [0]*np.shape(Xstar)[0]\n",
    "    \n",
    "    \n",
    "    for i in range(np.shape(Xstar)[0]):\n",
    "        XX = Xstar[i]\n",
    "        Kstar = k(X, XX, theta)\n",
    "        Kstarstar = k(XX,XX,theta)\n",
    "        mu = Kstar.T.dot(Ky)\n",
    "        cv = Kstarstar - (Kstar.T.dot(KK_inv).dot(Kstar))\n",
    "        if cv < 0:\n",
    "            cv = abs(cv)\n",
    "        mus[i] = float(mu)\n",
    "        sigs[i] = float(cv)\n",
    "    return pd.DataFrame({\"mu\": mus, \"sig\": sigs}), K, KK_inv"
   ]
  },
  {
   "cell_type": "code",
   "execution_count": 104,
   "metadata": {},
   "outputs": [
    {
     "name": "stdout",
     "output_type": "stream",
     "text": [
      "[[0.00354032]]\n",
      "[[0.00354032]]\n",
      "[[1.25338953e-05]]\n",
      "True\n",
      "[[1.05740044e-07 1.69555306e-04]]\n",
      "[[1.05740044e-07 1.69554932e-04]]\n",
      "[[2.87490131e-08]]\n",
      "True\n",
      "[[6.47805760e-01 1.30210557e-02 1.25345222e-05]]\n",
      "[[6.47805760e-01 1.07277136e-02 1.06471768e-05]]\n",
      "[[0.41982185]]\n",
      "True\n",
      "[[1.25345220e-05 3.54034637e-03 5.56290984e-13 4.47415411e-06]]\n",
      "[[ 1.25345220e-05  3.54030200e-03 -6.00247756e-07 -6.67010251e-05]]\n",
      "[[1.25342296e-05]]\n",
      "True\n",
      "[[9.62592755e-04 1.14107345e-01 3.28073871e-09 8.18677232e-04\n",
      "  4.19675915e-01]]\n",
      "[[ 9.62592755e-04  1.14103938e-01 -1.93427822e-05 -1.95034042e-03\n",
      "   4.19271962e-01]]\n",
      "[[0.18914996]]\n",
      "True\n",
      "[[1.93482308e-05 3.10250978e-02 1.57122100e-10 1.64555114e-05\n",
      "  6.47809820e-01 7.19398401e-01]]\n",
      "[[ 1.93482308e-05  3.10250293e-02 -5.26004034e-06 -5.30321055e-04\n",
      "   6.47699987e-01  4.13617836e-01]]\n",
      "[[0.93815418]]\n",
      "True\n",
      "[[6.23604309e-04 1.30210557e-02 1.16154593e-11 2.22593393e-04\n",
      "  6.47809820e-01 7.19398401e-01 1.68626968e+00]]\n",
      "[[ 6.23604309e-04  1.30188480e-02 -2.20735876e-06 -5.30260071e-04\n",
      "   6.47763725e-01  4.15869079e-01 -1.20339866e+00]]\n",
      "[[3.78086704]]\n",
      "False\n"
     ]
    },
    {
     "ename": "LinAlgError",
     "evalue": "Matrix is not positive definite",
     "output_type": "error",
     "traceback": [
      "\u001b[1;31m---------------------------------------------------------------------------\u001b[0m",
      "\u001b[1;31mLinAlgError\u001b[0m                               Traceback (most recent call last)",
      "\u001b[1;32m<ipython-input-104-c0014c71c0e0>\u001b[0m in \u001b[0;36m<module>\u001b[1;34m\u001b[0m\n\u001b[1;32m----> 1\u001b[1;33m \u001b[0mmodelFit3\u001b[0m\u001b[1;33m(\u001b[0m\u001b[1;33m[\u001b[0m\u001b[1;36m0.953290334560277\u001b[0m\u001b[1;33m,\u001b[0m\u001b[1;36m0.14184440300399\u001b[0m\u001b[1;33m,\u001b[0m\u001b[1;36m0.0706500217485385\u001b[0m\u001b[1;33m]\u001b[0m\u001b[1;33m,\u001b[0m \u001b[0mdf\u001b[0m\u001b[1;33m.\u001b[0m\u001b[0miloc\u001b[0m\u001b[1;33m[\u001b[0m\u001b[1;36m0\u001b[0m\u001b[1;33m]\u001b[0m\u001b[1;33m,\u001b[0m \u001b[1;33m[\u001b[0m\u001b[0mx\u001b[0m \u001b[1;32mfor\u001b[0m \u001b[0mx\u001b[0m \u001b[1;32min\u001b[0m \u001b[0mrange\u001b[0m\u001b[1;33m(\u001b[0m\u001b[1;36m10\u001b[0m\u001b[1;33m)\u001b[0m\u001b[1;33m]\u001b[0m\u001b[1;33m,\u001b[0m \u001b[1;32mFalse\u001b[0m\u001b[1;33m)\u001b[0m\u001b[1;33m\u001b[0m\u001b[1;33m\u001b[0m\u001b[0m\n\u001b[0m",
      "\u001b[1;32m<ipython-input-58-0130f31a29b6>\u001b[0m in \u001b[0;36mmodelFit3\u001b[1;34m(par, subjD, rounds, returnPredictions)\u001b[0m\n\u001b[0;32m     29\u001b[0m             \u001b[0mX1\u001b[0m \u001b[1;33m=\u001b[0m \u001b[0mnp\u001b[0m\u001b[1;33m.\u001b[0m\u001b[0mmatrix\u001b[0m\u001b[1;33m(\u001b[0m\u001b[0mX\u001b[0m\u001b[1;33m[\u001b[0m\u001b[1;36m0\u001b[0m\u001b[1;33m:\u001b[0m\u001b[0mi\u001b[0m\u001b[1;33m+\u001b[0m\u001b[1;36m2\u001b[0m\u001b[1;33m,\u001b[0m\u001b[1;33m:\u001b[0m\u001b[1;33m]\u001b[0m\u001b[1;33m)\u001b[0m\u001b[1;33m\u001b[0m\u001b[1;33m\u001b[0m\u001b[0m\n\u001b[0;32m     30\u001b[0m             \u001b[0my1\u001b[0m \u001b[1;33m=\u001b[0m \u001b[0mnp\u001b[0m\u001b[1;33m.\u001b[0m\u001b[0mmatrix\u001b[0m\u001b[1;33m(\u001b[0m\u001b[0my\u001b[0m\u001b[1;33m[\u001b[0m\u001b[1;36m0\u001b[0m\u001b[1;33m:\u001b[0m\u001b[0mi\u001b[0m\u001b[1;33m+\u001b[0m\u001b[1;36m2\u001b[0m\u001b[1;33m]\u001b[0m\u001b[1;33m)\u001b[0m\u001b[1;33m\u001b[0m\u001b[1;33m\u001b[0m\u001b[0m\n\u001b[1;32m---> 31\u001b[1;33m             \u001b[0mout\u001b[0m\u001b[1;33m,\u001b[0m \u001b[0mold_K\u001b[0m\u001b[1;33m,\u001b[0m \u001b[0mold_KK_inv\u001b[0m \u001b[1;33m=\u001b[0m \u001b[0mgpr_sequential\u001b[0m\u001b[1;33m(\u001b[0m\u001b[0mXnew\u001b[0m\u001b[1;33m,\u001b[0m \u001b[0mparVec\u001b[0m\u001b[1;33m,\u001b[0m \u001b[0mX1\u001b[0m\u001b[1;33m,\u001b[0m \u001b[0my1\u001b[0m\u001b[1;33m,\u001b[0m \u001b[0mrbf\u001b[0m\u001b[1;33m,\u001b[0m \u001b[0mold_K\u001b[0m\u001b[1;33m,\u001b[0m \u001b[0mold_KK_inv\u001b[0m\u001b[1;33m)\u001b[0m\u001b[1;33m\u001b[0m\u001b[1;33m\u001b[0m\u001b[0m\n\u001b[0m\u001b[0;32m     32\u001b[0m             \u001b[0mutilityVec\u001b[0m \u001b[1;33m=\u001b[0m \u001b[0mucb\u001b[0m\u001b[1;33m(\u001b[0m\u001b[0mout\u001b[0m\u001b[1;33m,\u001b[0m \u001b[1;33m[\u001b[0m\u001b[0mbeta\u001b[0m\u001b[1;33m]\u001b[0m\u001b[1;33m)\u001b[0m\u001b[1;33m\u001b[0m\u001b[1;33m\u001b[0m\u001b[0m\n\u001b[0;32m     33\u001b[0m             \u001b[0mutilityVec\u001b[0m \u001b[1;33m=\u001b[0m \u001b[0mutilityVec\u001b[0m \u001b[1;33m-\u001b[0m \u001b[0mnp\u001b[0m\u001b[1;33m.\u001b[0m\u001b[0mmax\u001b[0m\u001b[1;33m(\u001b[0m\u001b[0mutilityVec\u001b[0m\u001b[1;33m)\u001b[0m\u001b[1;33m\u001b[0m\u001b[1;33m\u001b[0m\u001b[0m\n",
      "\u001b[1;32m<ipython-input-103-28ec54825e90>\u001b[0m in \u001b[0;36mgpr_sequential\u001b[1;34m(X_test, theta, X, Y, k, old_K, old_KK_inv)\u001b[0m\n\u001b[0;32m     41\u001b[0m     \u001b[0mprint\u001b[0m\u001b[1;33m(\u001b[0m\u001b[0ma\u001b[0m\u001b[1;33m.\u001b[0m\u001b[0mT\u001b[0m\u001b[1;33m.\u001b[0m\u001b[0mdot\u001b[0m\u001b[1;33m(\u001b[0m\u001b[0ma\u001b[0m\u001b[1;33m)\u001b[0m\u001b[1;33m)\u001b[0m\u001b[1;33m\u001b[0m\u001b[1;33m\u001b[0m\u001b[0m\n\u001b[0;32m     42\u001b[0m     \u001b[0mprint\u001b[0m\u001b[1;33m(\u001b[0m\u001b[0misPositiveDefinite\u001b[0m\u001b[1;33m(\u001b[0m\u001b[0mX2\u001b[0m \u001b[1;33m-\u001b[0m \u001b[0ma\u001b[0m\u001b[1;33m.\u001b[0m\u001b[0mT\u001b[0m\u001b[1;33m.\u001b[0m\u001b[0mdot\u001b[0m\u001b[1;33m(\u001b[0m\u001b[0ma\u001b[0m\u001b[1;33m)\u001b[0m\u001b[1;33m)\u001b[0m\u001b[1;33m)\u001b[0m\u001b[1;33m\u001b[0m\u001b[1;33m\u001b[0m\u001b[0m\n\u001b[1;32m---> 43\u001b[1;33m     \u001b[0mKK_inv\u001b[0m\u001b[1;33m[\u001b[0m\u001b[1;33m-\u001b[0m\u001b[1;36m1\u001b[0m\u001b[1;33m,\u001b[0m\u001b[1;33m-\u001b[0m\u001b[1;36m1\u001b[0m\u001b[1;33m]\u001b[0m \u001b[1;33m=\u001b[0m \u001b[0mnp\u001b[0m\u001b[1;33m.\u001b[0m\u001b[0mlinalg\u001b[0m\u001b[1;33m.\u001b[0m\u001b[0mcholesky\u001b[0m\u001b[1;33m(\u001b[0m\u001b[0mX2\u001b[0m \u001b[1;33m-\u001b[0m \u001b[0ma\u001b[0m\u001b[1;33m.\u001b[0m\u001b[0mT\u001b[0m\u001b[1;33m.\u001b[0m\u001b[0mdot\u001b[0m\u001b[1;33m(\u001b[0m\u001b[0ma\u001b[0m\u001b[1;33m)\u001b[0m\u001b[1;33m)\u001b[0m\u001b[1;33m\u001b[0m\u001b[1;33m\u001b[0m\u001b[0m\n\u001b[0m\u001b[0;32m     44\u001b[0m     \u001b[0mKy\u001b[0m \u001b[1;33m=\u001b[0m \u001b[0mKK_inv\u001b[0m\u001b[1;33m.\u001b[0m\u001b[0mdot\u001b[0m\u001b[1;33m(\u001b[0m\u001b[0mY\u001b[0m\u001b[1;33m.\u001b[0m\u001b[0mT\u001b[0m\u001b[1;33m)\u001b[0m\u001b[1;33m\u001b[0m\u001b[1;33m\u001b[0m\u001b[0m\n\u001b[0;32m     45\u001b[0m     \u001b[0mmus\u001b[0m \u001b[1;33m=\u001b[0m \u001b[1;33m[\u001b[0m\u001b[1;36m0\u001b[0m\u001b[1;33m]\u001b[0m\u001b[1;33m*\u001b[0m\u001b[0mnp\u001b[0m\u001b[1;33m.\u001b[0m\u001b[0mshape\u001b[0m\u001b[1;33m(\u001b[0m\u001b[0mXstar\u001b[0m\u001b[1;33m)\u001b[0m\u001b[1;33m[\u001b[0m\u001b[1;36m0\u001b[0m\u001b[1;33m]\u001b[0m\u001b[1;33m\u001b[0m\u001b[1;33m\u001b[0m\u001b[0m\n",
      "\u001b[1;32m<__array_function__ internals>\u001b[0m in \u001b[0;36mcholesky\u001b[1;34m(*args, **kwargs)\u001b[0m\n",
      "\u001b[1;32m~\\anaconda3\\lib\\site-packages\\numpy\\linalg\\linalg.py\u001b[0m in \u001b[0;36mcholesky\u001b[1;34m(a)\u001b[0m\n\u001b[0;32m    753\u001b[0m     \u001b[0mt\u001b[0m\u001b[1;33m,\u001b[0m \u001b[0mresult_t\u001b[0m \u001b[1;33m=\u001b[0m \u001b[0m_commonType\u001b[0m\u001b[1;33m(\u001b[0m\u001b[0ma\u001b[0m\u001b[1;33m)\u001b[0m\u001b[1;33m\u001b[0m\u001b[1;33m\u001b[0m\u001b[0m\n\u001b[0;32m    754\u001b[0m     \u001b[0msignature\u001b[0m \u001b[1;33m=\u001b[0m \u001b[1;34m'D->D'\u001b[0m \u001b[1;32mif\u001b[0m \u001b[0misComplexType\u001b[0m\u001b[1;33m(\u001b[0m\u001b[0mt\u001b[0m\u001b[1;33m)\u001b[0m \u001b[1;32melse\u001b[0m \u001b[1;34m'd->d'\u001b[0m\u001b[1;33m\u001b[0m\u001b[1;33m\u001b[0m\u001b[0m\n\u001b[1;32m--> 755\u001b[1;33m     \u001b[0mr\u001b[0m \u001b[1;33m=\u001b[0m \u001b[0mgufunc\u001b[0m\u001b[1;33m(\u001b[0m\u001b[0ma\u001b[0m\u001b[1;33m,\u001b[0m \u001b[0msignature\u001b[0m\u001b[1;33m=\u001b[0m\u001b[0msignature\u001b[0m\u001b[1;33m,\u001b[0m \u001b[0mextobj\u001b[0m\u001b[1;33m=\u001b[0m\u001b[0mextobj\u001b[0m\u001b[1;33m)\u001b[0m\u001b[1;33m\u001b[0m\u001b[1;33m\u001b[0m\u001b[0m\n\u001b[0m\u001b[0;32m    756\u001b[0m     \u001b[1;32mreturn\u001b[0m \u001b[0mwrap\u001b[0m\u001b[1;33m(\u001b[0m\u001b[0mr\u001b[0m\u001b[1;33m.\u001b[0m\u001b[0mastype\u001b[0m\u001b[1;33m(\u001b[0m\u001b[0mresult_t\u001b[0m\u001b[1;33m,\u001b[0m \u001b[0mcopy\u001b[0m\u001b[1;33m=\u001b[0m\u001b[1;32mFalse\u001b[0m\u001b[1;33m)\u001b[0m\u001b[1;33m)\u001b[0m\u001b[1;33m\u001b[0m\u001b[1;33m\u001b[0m\u001b[0m\n\u001b[0;32m    757\u001b[0m \u001b[1;33m\u001b[0m\u001b[0m\n",
      "\u001b[1;32m~\\anaconda3\\lib\\site-packages\\numpy\\linalg\\linalg.py\u001b[0m in \u001b[0;36m_raise_linalgerror_nonposdef\u001b[1;34m(err, flag)\u001b[0m\n\u001b[0;32m     98\u001b[0m \u001b[1;33m\u001b[0m\u001b[0m\n\u001b[0;32m     99\u001b[0m \u001b[1;32mdef\u001b[0m \u001b[0m_raise_linalgerror_nonposdef\u001b[0m\u001b[1;33m(\u001b[0m\u001b[0merr\u001b[0m\u001b[1;33m,\u001b[0m \u001b[0mflag\u001b[0m\u001b[1;33m)\u001b[0m\u001b[1;33m:\u001b[0m\u001b[1;33m\u001b[0m\u001b[1;33m\u001b[0m\u001b[0m\n\u001b[1;32m--> 100\u001b[1;33m     \u001b[1;32mraise\u001b[0m \u001b[0mLinAlgError\u001b[0m\u001b[1;33m(\u001b[0m\u001b[1;34m\"Matrix is not positive definite\"\u001b[0m\u001b[1;33m)\u001b[0m\u001b[1;33m\u001b[0m\u001b[1;33m\u001b[0m\u001b[0m\n\u001b[0m\u001b[0;32m    101\u001b[0m \u001b[1;33m\u001b[0m\u001b[0m\n\u001b[0;32m    102\u001b[0m \u001b[1;32mdef\u001b[0m \u001b[0m_raise_linalgerror_eigenvalues_nonconvergence\u001b[0m\u001b[1;33m(\u001b[0m\u001b[0merr\u001b[0m\u001b[1;33m,\u001b[0m \u001b[0mflag\u001b[0m\u001b[1;33m)\u001b[0m\u001b[1;33m:\u001b[0m\u001b[1;33m\u001b[0m\u001b[1;33m\u001b[0m\u001b[0m\n",
      "\u001b[1;31mLinAlgError\u001b[0m: Matrix is not positive definite"
     ]
    }
   ],
   "source": [
    "modelFit3([0.953290334560277,0.14184440300399,0.0706500217485385], df.iloc[0], [x for x in range(10)], False)"
   ]
  },
  {
   "cell_type": "code",
   "execution_count": 22,
   "metadata": {},
   "outputs": [
    {
     "data": {
      "text/html": [
       "<div>\n",
       "<style scoped>\n",
       "    .dataframe tbody tr th:only-of-type {\n",
       "        vertical-align: middle;\n",
       "    }\n",
       "\n",
       "    .dataframe tbody tr th {\n",
       "        vertical-align: top;\n",
       "    }\n",
       "\n",
       "    .dataframe thead th {\n",
       "        text-align: right;\n",
       "    }\n",
       "</style>\n",
       "<table border=\"1\" class=\"dataframe\">\n",
       "  <thead>\n",
       "    <tr style=\"text-align: right;\">\n",
       "      <th></th>\n",
       "      <th>mu</th>\n",
       "      <th>sig</th>\n",
       "    </tr>\n",
       "  </thead>\n",
       "  <tbody>\n",
       "    <tr>\n",
       "      <th>0</th>\n",
       "      <td>-1.161695e-05</td>\n",
       "      <td>1.000100</td>\n",
       "    </tr>\n",
       "    <tr>\n",
       "      <th>1</th>\n",
       "      <td>-5.845881e-04</td>\n",
       "      <td>1.000086</td>\n",
       "    </tr>\n",
       "    <tr>\n",
       "      <th>2</th>\n",
       "      <td>-9.602656e-03</td>\n",
       "      <td>0.996394</td>\n",
       "    </tr>\n",
       "    <tr>\n",
       "      <th>3</th>\n",
       "      <td>-5.148921e-02</td>\n",
       "      <td>0.893557</td>\n",
       "    </tr>\n",
       "    <tr>\n",
       "      <th>4</th>\n",
       "      <td>-9.012069e-02</td>\n",
       "      <td>0.673708</td>\n",
       "    </tr>\n",
       "    <tr>\n",
       "      <th>...</th>\n",
       "      <td>...</td>\n",
       "      <td>...</td>\n",
       "    </tr>\n",
       "    <tr>\n",
       "      <th>59</th>\n",
       "      <td>-1.595609e-10</td>\n",
       "      <td>1.000100</td>\n",
       "    </tr>\n",
       "    <tr>\n",
       "      <th>60</th>\n",
       "      <td>-2.792767e-10</td>\n",
       "      <td>1.000100</td>\n",
       "    </tr>\n",
       "    <tr>\n",
       "      <th>61</th>\n",
       "      <td>-1.595609e-10</td>\n",
       "      <td>1.000100</td>\n",
       "    </tr>\n",
       "    <tr>\n",
       "      <th>62</th>\n",
       "      <td>-2.975785e-11</td>\n",
       "      <td>1.000100</td>\n",
       "    </tr>\n",
       "    <tr>\n",
       "      <th>63</th>\n",
       "      <td>-1.811591e-12</td>\n",
       "      <td>1.000100</td>\n",
       "    </tr>\n",
       "  </tbody>\n",
       "</table>\n",
       "<p>64 rows × 2 columns</p>\n",
       "</div>"
      ],
      "text/plain": [
       "              mu       sig\n",
       "0  -1.161695e-05  1.000100\n",
       "1  -5.845881e-04  1.000086\n",
       "2  -9.602656e-03  0.996394\n",
       "3  -5.148921e-02  0.893557\n",
       "4  -9.012069e-02  0.673708\n",
       "..           ...       ...\n",
       "59 -1.595609e-10  1.000100\n",
       "60 -2.792767e-10  1.000100\n",
       "61 -1.595609e-10  1.000100\n",
       "62 -2.975785e-11  1.000100\n",
       "63 -1.811591e-12  1.000100\n",
       "\n",
       "[64 rows x 2 columns]"
      ]
     },
     "execution_count": 22,
     "metadata": {},
     "output_type": "execute_result"
    }
   ],
   "source": [
    "gpr([[x2, x1] for x1 in range(8) for x2 in range(8)], [0.945098951166948, 0.945098951166948, 1, 0.0001], np.matrix([4,1]), np.matrix([-0.1577524891006599]), rbf)"
   ]
  },
  {
   "cell_type": "code",
   "execution_count": 23,
   "metadata": {},
   "outputs": [
    {
     "data": {
      "text/html": [
       "<div>\n",
       "<style scoped>\n",
       "    .dataframe tbody tr th:only-of-type {\n",
       "        vertical-align: middle;\n",
       "    }\n",
       "\n",
       "    .dataframe tbody tr th {\n",
       "        vertical-align: top;\n",
       "    }\n",
       "\n",
       "    .dataframe thead th {\n",
       "        text-align: right;\n",
       "    }\n",
       "</style>\n",
       "<table border=\"1\" class=\"dataframe\">\n",
       "  <thead>\n",
       "    <tr style=\"text-align: right;\">\n",
       "      <th></th>\n",
       "      <th>mu</th>\n",
       "      <th>sig</th>\n",
       "    </tr>\n",
       "  </thead>\n",
       "  <tbody>\n",
       "    <tr>\n",
       "      <th>0</th>\n",
       "      <td>-0.051489</td>\n",
       "      <td>0.893557</td>\n",
       "    </tr>\n",
       "    <tr>\n",
       "      <th>1</th>\n",
       "      <td>-0.090121</td>\n",
       "      <td>0.673708</td>\n",
       "    </tr>\n",
       "    <tr>\n",
       "      <th>2</th>\n",
       "      <td>-0.051489</td>\n",
       "      <td>0.893557</td>\n",
       "    </tr>\n",
       "    <tr>\n",
       "      <th>3</th>\n",
       "      <td>-0.009603</td>\n",
       "      <td>0.996394</td>\n",
       "    </tr>\n",
       "    <tr>\n",
       "      <th>4</th>\n",
       "      <td>-0.000585</td>\n",
       "      <td>1.000086</td>\n",
       "    </tr>\n",
       "    <tr>\n",
       "      <th>...</th>\n",
       "      <td>...</td>\n",
       "      <td>...</td>\n",
       "    </tr>\n",
       "    <tr>\n",
       "      <th>59</th>\n",
       "      <td>-0.009603</td>\n",
       "      <td>0.996394</td>\n",
       "    </tr>\n",
       "    <tr>\n",
       "      <th>60</th>\n",
       "      <td>-0.016807</td>\n",
       "      <td>0.988748</td>\n",
       "    </tr>\n",
       "    <tr>\n",
       "      <th>61</th>\n",
       "      <td>-0.009603</td>\n",
       "      <td>0.996394</td>\n",
       "    </tr>\n",
       "    <tr>\n",
       "      <th>62</th>\n",
       "      <td>-0.001791</td>\n",
       "      <td>0.999971</td>\n",
       "    </tr>\n",
       "    <tr>\n",
       "      <th>63</th>\n",
       "      <td>-0.000109</td>\n",
       "      <td>1.000100</td>\n",
       "    </tr>\n",
       "  </tbody>\n",
       "</table>\n",
       "<p>64 rows × 2 columns</p>\n",
       "</div>"
      ],
      "text/plain": [
       "          mu       sig\n",
       "0  -0.051489  0.893557\n",
       "1  -0.090121  0.673708\n",
       "2  -0.051489  0.893557\n",
       "3  -0.009603  0.996394\n",
       "4  -0.000585  1.000086\n",
       "..       ...       ...\n",
       "59 -0.009603  0.996394\n",
       "60 -0.016807  0.988748\n",
       "61 -0.009603  0.996394\n",
       "62 -0.001791  0.999971\n",
       "63 -0.000109  1.000100\n",
       "\n",
       "[64 rows x 2 columns]"
      ]
     },
     "execution_count": 23,
     "metadata": {},
     "output_type": "execute_result"
    }
   ],
   "source": [
    "gpr([[x2, x1] for x1 in range(8) for x2 in range(8)], [0.945098951166948, 0.945098951166948, 1, 0.0001], np.column_stack(([4,1], [5,1])), np.matrix([-0.1577524891006599,-0.1577524891006599]), rbf)"
   ]
  },
  {
   "cell_type": "code",
   "execution_count": 38,
   "metadata": {},
   "outputs": [
    {
     "data": {
      "text/plain": [
       "(              mu       sig\n",
       " 0  -5.149693e-02  0.893541\n",
       " 1  -9.013421e-02  0.673659\n",
       " 2  -5.149693e-02  0.893541\n",
       " 3  -9.604097e-03  0.996394\n",
       " 4  -5.846758e-04  1.000086\n",
       " ..           ...       ...\n",
       " 59 -2.976231e-11  1.000100\n",
       " 60 -1.811863e-12  1.000100\n",
       " 61 -3.600537e-14  1.000100\n",
       " 62 -2.335569e-16  1.000100\n",
       " 63 -4.945403e-19  1.000100\n",
       " \n",
       " [64 rows x 2 columns],\n",
       " matrix([[1.00010000e+00, 8.36166886e-07],\n",
       "         [8.36166886e-07, 1.00010000e+00]]),\n",
       " array([[0.     , 0.     ],\n",
       "        [0.     , 1.00005]]))"
      ]
     },
     "execution_count": 38,
     "metadata": {},
     "output_type": "execute_result"
    }
   ],
   "source": [
    "gpr2([[x2, x1] for x1 in range(8) for x2 in range(8)], [0.945098951166948, 0.945098951166948, 1, 0.0001], np.column_stack(([4,1], [5,1])), np.matrix([-0.1577524891006599,-0.1577524891006599]), rbf, np.matrix([[1.0001]]), np.matrix([[0.99990001]]))"
   ]
  },
  {
   "cell_type": "code",
   "execution_count": 24,
   "metadata": {},
   "outputs": [
    {
     "name": "stdout",
     "output_type": "stream",
     "text": [
      "0.49409485700016376\n"
     ]
    }
   ],
   "source": [
    "from timeit import default_timer as timer\n",
    "start = timer()\n",
    "for i in range(20):\n",
    "    gpr([[x2, x1] for x1 in range(8) for x2 in range(8)], [0.945098951166948, 0.945098951166948, 1, 0.0001], np.column_stack(([4,1], [5,1])), np.matrix([-0.1577524891006599,-0.1577524891006599]), rbf)\n",
    "end = timer()\n",
    "print(end-start)"
   ]
  },
  {
   "cell_type": "code",
   "execution_count": 16,
   "metadata": {},
   "outputs": [
    {
     "data": {
      "text/html": [
       "<div>\n",
       "<style scoped>\n",
       "    .dataframe tbody tr th:only-of-type {\n",
       "        vertical-align: middle;\n",
       "    }\n",
       "\n",
       "    .dataframe tbody tr th {\n",
       "        vertical-align: top;\n",
       "    }\n",
       "\n",
       "    .dataframe thead th {\n",
       "        text-align: right;\n",
       "    }\n",
       "</style>\n",
       "<table border=\"1\" class=\"dataframe\">\n",
       "  <thead>\n",
       "    <tr style=\"text-align: right;\">\n",
       "      <th></th>\n",
       "      <th>mu</th>\n",
       "      <th>sig</th>\n",
       "    </tr>\n",
       "  </thead>\n",
       "  <tbody>\n",
       "    <tr>\n",
       "      <th>0</th>\n",
       "      <td>-0.051489</td>\n",
       "      <td>0.893557</td>\n",
       "    </tr>\n",
       "    <tr>\n",
       "      <th>1</th>\n",
       "      <td>-0.090121</td>\n",
       "      <td>0.673708</td>\n",
       "    </tr>\n",
       "    <tr>\n",
       "      <th>2</th>\n",
       "      <td>-0.051489</td>\n",
       "      <td>0.893557</td>\n",
       "    </tr>\n",
       "    <tr>\n",
       "      <th>3</th>\n",
       "      <td>-0.009603</td>\n",
       "      <td>0.996394</td>\n",
       "    </tr>\n",
       "    <tr>\n",
       "      <th>4</th>\n",
       "      <td>-0.000585</td>\n",
       "      <td>1.000086</td>\n",
       "    </tr>\n",
       "    <tr>\n",
       "      <th>...</th>\n",
       "      <td>...</td>\n",
       "      <td>...</td>\n",
       "    </tr>\n",
       "    <tr>\n",
       "      <th>59</th>\n",
       "      <td>-0.009603</td>\n",
       "      <td>0.996394</td>\n",
       "    </tr>\n",
       "    <tr>\n",
       "      <th>60</th>\n",
       "      <td>-0.016807</td>\n",
       "      <td>0.988748</td>\n",
       "    </tr>\n",
       "    <tr>\n",
       "      <th>61</th>\n",
       "      <td>-0.009603</td>\n",
       "      <td>0.996394</td>\n",
       "    </tr>\n",
       "    <tr>\n",
       "      <th>62</th>\n",
       "      <td>-0.001791</td>\n",
       "      <td>0.999971</td>\n",
       "    </tr>\n",
       "    <tr>\n",
       "      <th>63</th>\n",
       "      <td>-0.000109</td>\n",
       "      <td>1.000100</td>\n",
       "    </tr>\n",
       "  </tbody>\n",
       "</table>\n",
       "<p>64 rows × 2 columns</p>\n",
       "</div>"
      ],
      "text/plain": [
       "          mu       sig\n",
       "0  -0.051489  0.893557\n",
       "1  -0.090121  0.673708\n",
       "2  -0.051489  0.893557\n",
       "3  -0.009603  0.996394\n",
       "4  -0.000585  1.000086\n",
       "..       ...       ...\n",
       "59 -0.009603  0.996394\n",
       "60 -0.016807  0.988748\n",
       "61 -0.009603  0.996394\n",
       "62 -0.001791  0.999971\n",
       "63 -0.000109  1.000100\n",
       "\n",
       "[64 rows x 2 columns]"
      ]
     },
     "execution_count": 16,
     "metadata": {},
     "output_type": "execute_result"
    }
   ],
   "source": [
    "gpr([[x2, x1] for x1 in range(8) for x2 in range(8)], [0.945098951166948, 0.945098951166948, 1, 0.0001], np.column_stack(([4,1], [5,1])), np.matrix([-0.1577524891006599,-0.1577524891006599]), rbf)"
   ]
  },
  {
   "cell_type": "code",
   "execution_count": 50,
   "metadata": {},
   "outputs": [
    {
     "data": {
      "text/plain": [
       "matrix([[4.21151648e-01, 3.20277855e-01, 4.21151634e-01, 4.89495030e-01,\n",
       "         4.99436847e-01, 5.00013306e-01, 5.00024910e-01, 5.00024998e-01,\n",
       "         3.20277853e-01, 1.00000000e-04, 3.20275689e-01, 4.80359954e-01,\n",
       "         4.98970951e-01, 4.99993044e-01, 5.00022701e-01, 5.00024867e-01,\n",
       "         4.21151516e-01, 3.20271218e-01, 4.21042497e-01, 4.88907078e-01,\n",
       "         4.98403267e-01, 4.99425360e-01, 4.99915780e-01, 5.00018362e-01,\n",
       "         4.89492939e-01, 4.80262427e-01, 4.87671945e-01, 4.87671945e-01,\n",
       "         4.80262427e-01, 4.89492939e-01, 4.98201884e-01, 4.99915855e-01,\n",
       "         4.99425360e-01, 4.98403267e-01, 4.88907078e-01, 4.21042497e-01,\n",
       "         3.20271218e-01, 4.21151516e-01, 4.89495104e-01, 4.99436978e-01,\n",
       "         4.99993044e-01, 4.98970951e-01, 4.80359954e-01, 3.20275689e-01,\n",
       "         1.00000000e-04, 3.20277853e-01, 4.80371572e-01, 4.98991288e-01,\n",
       "         5.00013306e-01, 4.99436847e-01, 4.89495030e-01, 4.21151634e-01,\n",
       "         3.20277855e-01, 4.21151648e-01, 4.89495105e-01, 4.99436978e-01,\n",
       "         5.00022833e-01, 4.99915855e-01, 4.98201898e-01, 4.89495105e-01,\n",
       "         4.80371572e-01, 4.89495105e-01, 4.98201898e-01, 4.99915855e-01]])"
      ]
     },
     "execution_count": 50,
     "metadata": {},
     "output_type": "execute_result"
    }
   ],
   "source": [
    "ucb(gpr([[x2, x1] for x1 in range(8) for x2 in range(8)], [0.945098951166948, 0.945098951166948, 1, 0.0001], np.column_stack(([4,1], [5,1])), np.matrix([-0.1577524891006599,-0.1577524891006599]), rbf), [0.5])"
   ]
  },
  {
   "cell_type": "code",
   "execution_count": 51,
   "metadata": {},
   "outputs": [],
   "source": [
    "f = open(\"experiment/roughEnvironment.json\")\n",
    "roughEnvironments = json.load(f)\n",
    "f.close()\n",
    "f = open(\"experiment/smoothEnvironment.json\")\n",
    "smoothEnvironments = json.load(f)\n",
    "f.close()\n",
    "\n",
    "gpPars = pd.read_csv(\"rationalModels/parameters/gpucb.csv\", sep=\",\")"
   ]
  },
  {
   "cell_type": "code",
   "execution_count": 58,
   "metadata": {},
   "outputs": [],
   "source": [
    "def modelFit3(par, subjD, rounds, returnPredictions=False):\n",
    "    tau = np.exp(float(par[0]))\n",
    "    beta = np.exp(float(par[1]))\n",
    "    lam = np.exp(float(par[2]))\n",
    "    parVec = [lam, lam, 1, 0.0001]\n",
    "    \n",
    "    Xnew = [[x, y] for y in range(8) for x in range(8)]\n",
    "    nLL = [0]*len(rounds)\n",
    "    utilities = None\n",
    "    for r in rounds:\n",
    "        roundD = np.array(subjD[\"round\"]) == r\n",
    "        chosen = np.array(subjD[\"chosen\"])[roundD]\n",
    "        chosen = chosen[1:20]\n",
    "        y = np.array(subjD[\"z\"])[roundD]\n",
    "        y = y[0:20]\n",
    "        x1 = np.array(subjD[\"x\"])[roundD]\n",
    "        x1 = x1[0:20]\n",
    "        x2 = np.array(subjD[\"y\"])[roundD]\n",
    "        x2 = x2[0:20]\n",
    "        X = np.column_stack((x1,x2))\n",
    "\n",
    "        X1 = np.matrix(X[0:1,:])\n",
    "        y1 = np.matrix(y[0:1])\n",
    "        out, old_K, old_KK_inv = gpr_first(Xnew, parVec, X1, y1, rbf)\n",
    "        utilityVec = ucb(out, [beta])\n",
    "        utilityVec = utilityVec - np.max(utilityVec)\n",
    "        utilities = utilityVec\n",
    "        for i in range(18):\n",
    "            X1 = np.matrix(X[0:i+2,:])\n",
    "            y1 = np.matrix(y[0:i+2])\n",
    "            out, old_K, old_KK_inv = gpr_sequential(Xnew, parVec, X1, y1, rbf, old_K, old_KK_inv)\n",
    "            utilityVec = ucb(out, [beta])\n",
    "            utilityVec = utilityVec - np.max(utilityVec)\n",
    "            utilities = np.row_stack((utilities, utilityVec))\n",
    "        p = np.exp(utilities / tau)\n",
    "        p = p / np.sum(p, 1)\n",
    "        p[p < 0.00001] = 0.00001\n",
    "        p[p > 0.99999] = 0.99999\n",
    "        a = [[x, chosen[x]] for x in range(19)]\n",
    "        nLL[[x for x in range(len(rounds)) if rounds[x]==r][0]] = -np.sum(np.log([p[x[0], x[1]] for x in a]))\n",
    "        #clear_output(wait=True)\n",
    "        #print(str(r+1) + \"/\" + str(len(rounds)))\n",
    "    if returnPredictions:\n",
    "        return {\"sumLogLoss\": np.sum(nLL), \"predictions\": p, \"chosen\": chosen}\n",
    "    else:\n",
    "        return np.sum(nLL)"
   ]
  },
  {
   "cell_type": "code",
   "execution_count": 56,
   "metadata": {},
   "outputs": [
    {
     "data": {
      "text/plain": [
       "799.150157848398"
      ]
     },
     "execution_count": 56,
     "metadata": {},
     "output_type": "execute_result"
    }
   ],
   "source": [
    "# Test\n",
    "modelFit2([0.953290334560277,0.14184440300399,0.0706500217485385], df.iloc[0], [x for x in range(10)], False)"
   ]
  },
  {
   "cell_type": "code",
   "execution_count": 86,
   "metadata": {},
   "outputs": [
    {
     "name": "stdout",
     "output_type": "stream",
     "text": [
      "1.0001\n",
      "[[0.00354032]]\n",
      "1.0001\n",
      "[[1.05740044e-07]\n",
      " [1.69555306e-04]]\n",
      "1.0001\n",
      "[[6.47805760e-01]\n",
      " [1.30210557e-02]\n",
      " [1.25345222e-05]]\n",
      "1.0001\n",
      "[[1.25345220e-05]\n",
      " [3.54034637e-03]\n",
      " [5.56290984e-13]\n",
      " [4.47415411e-06]]\n",
      "1.0001\n",
      "[[9.62592755e-04]\n",
      " [1.14107345e-01]\n",
      " [3.28073871e-09]\n",
      " [8.18677232e-04]\n",
      " [4.19675915e-01]]\n",
      "1.0001\n",
      "[[1.93482308e-05]\n",
      " [3.10250978e-02]\n",
      " [1.57122100e-10]\n",
      " [1.64555114e-05]\n",
      " [6.47809820e-01]\n",
      " [7.19398401e-01]]\n",
      "1.0001\n",
      "[[6.23604309e-04]\n",
      " [1.30210557e-02]\n",
      " [1.16154593e-11]\n",
      " [2.22593393e-04]\n",
      " [6.47809820e-01]\n",
      " [7.19398401e-01]\n",
      " [1.68626968e+00]]\n"
     ]
    },
    {
     "ename": "LinAlgError",
     "evalue": "Matrix is not positive definite",
     "output_type": "error",
     "traceback": [
      "\u001b[1;31m---------------------------------------------------------------------------\u001b[0m",
      "\u001b[1;31mLinAlgError\u001b[0m                               Traceback (most recent call last)",
      "\u001b[1;32m<ipython-input-86-c0014c71c0e0>\u001b[0m in \u001b[0;36m<module>\u001b[1;34m\u001b[0m\n\u001b[1;32m----> 1\u001b[1;33m \u001b[0mmodelFit3\u001b[0m\u001b[1;33m(\u001b[0m\u001b[1;33m[\u001b[0m\u001b[1;36m0.953290334560277\u001b[0m\u001b[1;33m,\u001b[0m\u001b[1;36m0.14184440300399\u001b[0m\u001b[1;33m,\u001b[0m\u001b[1;36m0.0706500217485385\u001b[0m\u001b[1;33m]\u001b[0m\u001b[1;33m,\u001b[0m \u001b[0mdf\u001b[0m\u001b[1;33m.\u001b[0m\u001b[0miloc\u001b[0m\u001b[1;33m[\u001b[0m\u001b[1;36m0\u001b[0m\u001b[1;33m]\u001b[0m\u001b[1;33m,\u001b[0m \u001b[1;33m[\u001b[0m\u001b[0mx\u001b[0m \u001b[1;32mfor\u001b[0m \u001b[0mx\u001b[0m \u001b[1;32min\u001b[0m \u001b[0mrange\u001b[0m\u001b[1;33m(\u001b[0m\u001b[1;36m10\u001b[0m\u001b[1;33m)\u001b[0m\u001b[1;33m]\u001b[0m\u001b[1;33m,\u001b[0m \u001b[1;32mFalse\u001b[0m\u001b[1;33m)\u001b[0m\u001b[1;33m\u001b[0m\u001b[1;33m\u001b[0m\u001b[0m\n\u001b[0m",
      "\u001b[1;32m<ipython-input-58-0130f31a29b6>\u001b[0m in \u001b[0;36mmodelFit3\u001b[1;34m(par, subjD, rounds, returnPredictions)\u001b[0m\n\u001b[0;32m     29\u001b[0m             \u001b[0mX1\u001b[0m \u001b[1;33m=\u001b[0m \u001b[0mnp\u001b[0m\u001b[1;33m.\u001b[0m\u001b[0mmatrix\u001b[0m\u001b[1;33m(\u001b[0m\u001b[0mX\u001b[0m\u001b[1;33m[\u001b[0m\u001b[1;36m0\u001b[0m\u001b[1;33m:\u001b[0m\u001b[0mi\u001b[0m\u001b[1;33m+\u001b[0m\u001b[1;36m2\u001b[0m\u001b[1;33m,\u001b[0m\u001b[1;33m:\u001b[0m\u001b[1;33m]\u001b[0m\u001b[1;33m)\u001b[0m\u001b[1;33m\u001b[0m\u001b[1;33m\u001b[0m\u001b[0m\n\u001b[0;32m     30\u001b[0m             \u001b[0my1\u001b[0m \u001b[1;33m=\u001b[0m \u001b[0mnp\u001b[0m\u001b[1;33m.\u001b[0m\u001b[0mmatrix\u001b[0m\u001b[1;33m(\u001b[0m\u001b[0my\u001b[0m\u001b[1;33m[\u001b[0m\u001b[1;36m0\u001b[0m\u001b[1;33m:\u001b[0m\u001b[0mi\u001b[0m\u001b[1;33m+\u001b[0m\u001b[1;36m2\u001b[0m\u001b[1;33m]\u001b[0m\u001b[1;33m)\u001b[0m\u001b[1;33m\u001b[0m\u001b[1;33m\u001b[0m\u001b[0m\n\u001b[1;32m---> 31\u001b[1;33m             \u001b[0mout\u001b[0m\u001b[1;33m,\u001b[0m \u001b[0mold_K\u001b[0m\u001b[1;33m,\u001b[0m \u001b[0mold_KK_inv\u001b[0m \u001b[1;33m=\u001b[0m \u001b[0mgpr_sequential\u001b[0m\u001b[1;33m(\u001b[0m\u001b[0mXnew\u001b[0m\u001b[1;33m,\u001b[0m \u001b[0mparVec\u001b[0m\u001b[1;33m,\u001b[0m \u001b[0mX1\u001b[0m\u001b[1;33m,\u001b[0m \u001b[0my1\u001b[0m\u001b[1;33m,\u001b[0m \u001b[0mrbf\u001b[0m\u001b[1;33m,\u001b[0m \u001b[0mold_K\u001b[0m\u001b[1;33m,\u001b[0m \u001b[0mold_KK_inv\u001b[0m\u001b[1;33m)\u001b[0m\u001b[1;33m\u001b[0m\u001b[1;33m\u001b[0m\u001b[0m\n\u001b[0m\u001b[0;32m     32\u001b[0m             \u001b[0mutilityVec\u001b[0m \u001b[1;33m=\u001b[0m \u001b[0mucb\u001b[0m\u001b[1;33m(\u001b[0m\u001b[0mout\u001b[0m\u001b[1;33m,\u001b[0m \u001b[1;33m[\u001b[0m\u001b[0mbeta\u001b[0m\u001b[1;33m]\u001b[0m\u001b[1;33m)\u001b[0m\u001b[1;33m\u001b[0m\u001b[1;33m\u001b[0m\u001b[0m\n\u001b[0;32m     33\u001b[0m             \u001b[0mutilityVec\u001b[0m \u001b[1;33m=\u001b[0m \u001b[0mutilityVec\u001b[0m \u001b[1;33m-\u001b[0m \u001b[0mnp\u001b[0m\u001b[1;33m.\u001b[0m\u001b[0mmax\u001b[0m\u001b[1;33m(\u001b[0m\u001b[0mutilityVec\u001b[0m\u001b[1;33m)\u001b[0m\u001b[1;33m\u001b[0m\u001b[1;33m\u001b[0m\u001b[0m\n",
      "\u001b[1;32m<ipython-input-85-8dc8fc2be77f>\u001b[0m in \u001b[0;36mgpr_sequential\u001b[1;34m(X_test, theta, X, Y, k, old_K, old_KK_inv)\u001b[0m\n\u001b[0;32m     39\u001b[0m     \u001b[0mprint\u001b[0m\u001b[1;33m(\u001b[0m\u001b[0mX2\u001b[0m\u001b[1;33m)\u001b[0m\u001b[1;33m\u001b[0m\u001b[1;33m\u001b[0m\u001b[0m\n\u001b[0;32m     40\u001b[0m     \u001b[0mprint\u001b[0m\u001b[1;33m(\u001b[0m\u001b[0ma\u001b[0m\u001b[1;33m)\u001b[0m\u001b[1;33m\u001b[0m\u001b[1;33m\u001b[0m\u001b[0m\n\u001b[1;32m---> 41\u001b[1;33m     \u001b[0mKK_inv\u001b[0m\u001b[1;33m[\u001b[0m\u001b[1;33m-\u001b[0m\u001b[1;36m1\u001b[0m\u001b[1;33m,\u001b[0m\u001b[1;33m-\u001b[0m\u001b[1;36m1\u001b[0m\u001b[1;33m]\u001b[0m \u001b[1;33m=\u001b[0m \u001b[0mnp\u001b[0m\u001b[1;33m.\u001b[0m\u001b[0mlinalg\u001b[0m\u001b[1;33m.\u001b[0m\u001b[0mcholesky\u001b[0m\u001b[1;33m(\u001b[0m\u001b[0mX2\u001b[0m \u001b[1;33m-\u001b[0m \u001b[0ma\u001b[0m\u001b[1;33m.\u001b[0m\u001b[0mT\u001b[0m\u001b[1;33m.\u001b[0m\u001b[0mdot\u001b[0m\u001b[1;33m(\u001b[0m\u001b[0ma\u001b[0m\u001b[1;33m)\u001b[0m\u001b[1;33m)\u001b[0m\u001b[1;33m\u001b[0m\u001b[1;33m\u001b[0m\u001b[0m\n\u001b[0m\u001b[0;32m     42\u001b[0m     \u001b[0mKy\u001b[0m \u001b[1;33m=\u001b[0m \u001b[0mKK_inv\u001b[0m\u001b[1;33m.\u001b[0m\u001b[0mdot\u001b[0m\u001b[1;33m(\u001b[0m\u001b[0mY\u001b[0m\u001b[1;33m.\u001b[0m\u001b[0mT\u001b[0m\u001b[1;33m)\u001b[0m\u001b[1;33m\u001b[0m\u001b[1;33m\u001b[0m\u001b[0m\n\u001b[0;32m     43\u001b[0m     \u001b[0mmus\u001b[0m \u001b[1;33m=\u001b[0m \u001b[1;33m[\u001b[0m\u001b[1;36m0\u001b[0m\u001b[1;33m]\u001b[0m\u001b[1;33m*\u001b[0m\u001b[0mnp\u001b[0m\u001b[1;33m.\u001b[0m\u001b[0mshape\u001b[0m\u001b[1;33m(\u001b[0m\u001b[0mXstar\u001b[0m\u001b[1;33m)\u001b[0m\u001b[1;33m[\u001b[0m\u001b[1;36m0\u001b[0m\u001b[1;33m]\u001b[0m\u001b[1;33m\u001b[0m\u001b[1;33m\u001b[0m\u001b[0m\n",
      "\u001b[1;32m<__array_function__ internals>\u001b[0m in \u001b[0;36mcholesky\u001b[1;34m(*args, **kwargs)\u001b[0m\n",
      "\u001b[1;32m~\\anaconda3\\lib\\site-packages\\numpy\\linalg\\linalg.py\u001b[0m in \u001b[0;36mcholesky\u001b[1;34m(a)\u001b[0m\n\u001b[0;32m    753\u001b[0m     \u001b[0mt\u001b[0m\u001b[1;33m,\u001b[0m \u001b[0mresult_t\u001b[0m \u001b[1;33m=\u001b[0m \u001b[0m_commonType\u001b[0m\u001b[1;33m(\u001b[0m\u001b[0ma\u001b[0m\u001b[1;33m)\u001b[0m\u001b[1;33m\u001b[0m\u001b[1;33m\u001b[0m\u001b[0m\n\u001b[0;32m    754\u001b[0m     \u001b[0msignature\u001b[0m \u001b[1;33m=\u001b[0m \u001b[1;34m'D->D'\u001b[0m \u001b[1;32mif\u001b[0m \u001b[0misComplexType\u001b[0m\u001b[1;33m(\u001b[0m\u001b[0mt\u001b[0m\u001b[1;33m)\u001b[0m \u001b[1;32melse\u001b[0m \u001b[1;34m'd->d'\u001b[0m\u001b[1;33m\u001b[0m\u001b[1;33m\u001b[0m\u001b[0m\n\u001b[1;32m--> 755\u001b[1;33m     \u001b[0mr\u001b[0m \u001b[1;33m=\u001b[0m \u001b[0mgufunc\u001b[0m\u001b[1;33m(\u001b[0m\u001b[0ma\u001b[0m\u001b[1;33m,\u001b[0m \u001b[0msignature\u001b[0m\u001b[1;33m=\u001b[0m\u001b[0msignature\u001b[0m\u001b[1;33m,\u001b[0m \u001b[0mextobj\u001b[0m\u001b[1;33m=\u001b[0m\u001b[0mextobj\u001b[0m\u001b[1;33m)\u001b[0m\u001b[1;33m\u001b[0m\u001b[1;33m\u001b[0m\u001b[0m\n\u001b[0m\u001b[0;32m    756\u001b[0m     \u001b[1;32mreturn\u001b[0m \u001b[0mwrap\u001b[0m\u001b[1;33m(\u001b[0m\u001b[0mr\u001b[0m\u001b[1;33m.\u001b[0m\u001b[0mastype\u001b[0m\u001b[1;33m(\u001b[0m\u001b[0mresult_t\u001b[0m\u001b[1;33m,\u001b[0m \u001b[0mcopy\u001b[0m\u001b[1;33m=\u001b[0m\u001b[1;32mFalse\u001b[0m\u001b[1;33m)\u001b[0m\u001b[1;33m)\u001b[0m\u001b[1;33m\u001b[0m\u001b[1;33m\u001b[0m\u001b[0m\n\u001b[0;32m    757\u001b[0m \u001b[1;33m\u001b[0m\u001b[0m\n",
      "\u001b[1;32m~\\anaconda3\\lib\\site-packages\\numpy\\linalg\\linalg.py\u001b[0m in \u001b[0;36m_raise_linalgerror_nonposdef\u001b[1;34m(err, flag)\u001b[0m\n\u001b[0;32m     98\u001b[0m \u001b[1;33m\u001b[0m\u001b[0m\n\u001b[0;32m     99\u001b[0m \u001b[1;32mdef\u001b[0m \u001b[0m_raise_linalgerror_nonposdef\u001b[0m\u001b[1;33m(\u001b[0m\u001b[0merr\u001b[0m\u001b[1;33m,\u001b[0m \u001b[0mflag\u001b[0m\u001b[1;33m)\u001b[0m\u001b[1;33m:\u001b[0m\u001b[1;33m\u001b[0m\u001b[1;33m\u001b[0m\u001b[0m\n\u001b[1;32m--> 100\u001b[1;33m     \u001b[1;32mraise\u001b[0m \u001b[0mLinAlgError\u001b[0m\u001b[1;33m(\u001b[0m\u001b[1;34m\"Matrix is not positive definite\"\u001b[0m\u001b[1;33m)\u001b[0m\u001b[1;33m\u001b[0m\u001b[1;33m\u001b[0m\u001b[0m\n\u001b[0m\u001b[0;32m    101\u001b[0m \u001b[1;33m\u001b[0m\u001b[0m\n\u001b[0;32m    102\u001b[0m \u001b[1;32mdef\u001b[0m \u001b[0m_raise_linalgerror_eigenvalues_nonconvergence\u001b[0m\u001b[1;33m(\u001b[0m\u001b[0merr\u001b[0m\u001b[1;33m,\u001b[0m \u001b[0mflag\u001b[0m\u001b[1;33m)\u001b[0m\u001b[1;33m:\u001b[0m\u001b[1;33m\u001b[0m\u001b[1;33m\u001b[0m\u001b[0m\n",
      "\u001b[1;31mLinAlgError\u001b[0m: Matrix is not positive definite"
     ]
    }
   ],
   "source": [
    "modelFit3([0.953290334560277,0.14184440300399,0.0706500217485385], df.iloc[0], [x for x in range(10)], False)"
   ]
  },
  {
   "cell_type": "code",
   "execution_count": 24,
   "metadata": {},
   "outputs": [
    {
     "name": "stdout",
     "output_type": "stream",
     "text": [
      "791.7647075470223\n",
      "7.741365010999999\n"
     ]
    }
   ],
   "source": [
    "start = timer()\n",
    "print(modelFit2([1,  0.5, 1], df.iloc[0], range(10), False))\n",
    "end = timer()\n",
    "print(end - start)"
   ]
  },
  {
   "cell_type": "code",
   "execution_count": 25,
   "metadata": {},
   "outputs": [],
   "source": [
    "import scipy.optimize as sco\n",
    "\n",
    "def cvfunc(data, task, selector, leaveoutindex):\n",
    "    d1 = [data.iloc[x] for x in range(len(data)) if data.iloc[x][\"id\"][0] == selector][0].copy()\n",
    "    b = [d1[\"context\"][x]==task for x in range(len(d1[\"context\"]))]\n",
    "    for i in range(len(d1)):\n",
    "        d1[i] = [d1[i][x] for x in range(len(d1[i])) if b[x]]\n",
    "        \n",
    "    rounds = [x for x in range(9)]\n",
    "    trainingSet = [rounds[x] for x in range(len(rounds)) if x != leaveoutindex]\n",
    "    testSet = rounds[leaveoutindex]\n",
    "    bounds = [(-5,5),(-5,5),(-5,5)]\n",
    "    fit = sco.differential_evolution(modelFit2, bounds, (d1, trainingSet, False), disp=True, maxiter=20)\n",
    "    paramEstimates = fit.x\n",
    "    print(fit)\n",
    "    \n",
    "    \n",
    "    predict = modelFit2(paramEstimates, d1, [testSet], True)\n",
    "    cvresults = {\"loo\": leaveoutindex, \"nLL\": predict[\"sumLogLoss\"], \"tau\": paramEstimates[0], \"lambda\": paramEstimates[1], \"beta\": paramEstimates[2]}\n",
    "    return [cvresults, predict[\"predictions\"], predict[\"chosen\"]]"
   ]
  },
  {
   "cell_type": "code",
   "execution_count": 26,
   "metadata": {},
   "outputs": [],
   "source": [
    "# For testing purposes\n",
    "def modelFit3(data, pars, task, selector, leaveoutindex):\n",
    "    d1 = [data.iloc[x] for x in range(len(data)) if data.iloc[x][\"id\"][0] == selector][0].copy()\n",
    "    b = [d1[\"context\"][x]==task for x in range(len(d1[\"context\"]))]\n",
    "    for i in range(len(d1)):\n",
    "        d1[i] = [d1[i][x] for x in range(len(d1[i])) if b[x]]\n",
    "    \n",
    "    rounds = [x for x in range(9)]\n",
    "    trainingSet = [rounds[x] for x in range(len(rounds)) if x != leaveoutindex]\n",
    "    print(modelFit2(pars, d1, trainingSet, False))"
   ]
  },
  {
   "cell_type": "code",
   "execution_count": 27,
   "metadata": {},
   "outputs": [
    {
     "name": "stdout",
     "output_type": "stream",
     "text": [
      "641.2145678759513\n"
     ]
    }
   ],
   "source": [
    "modelFit3(df, [1.02320515632445,0.110314130468726,0.0676485720434532], \"Spatial\", 1, 0)"
   ]
  },
  {
   "cell_type": "code",
   "execution_count": 36,
   "metadata": {},
   "outputs": [],
   "source": [
    "import cma\n",
    "\n",
    "def cvfunc2(data, task, selector, leaveoutindex):\n",
    "    d1 = [data.iloc[x] for x in range(len(data)) if data.iloc[x][\"id\"][0] == selector][0].copy()\n",
    "    b = [d1[\"context\"][x]==task for x in range(len(d1[\"context\"]))]\n",
    "    for i in range(len(d1)):\n",
    "        d1[i] = [d1[i][x] for x in range(len(d1[i])) if b[x]]\n",
    "        \n",
    "    rounds = [x for x in range(9)]\n",
    "    trainingSet = [rounds[x] for x in range(len(rounds)) if x != leaveoutindex]\n",
    "    testSet = rounds[leaveoutindex]\n",
    "    #bounds = [(-5,5),(-5,5),(-5,5)]\n",
    "    opts = cma.CMAOptions()\n",
    "    opts.set('tolfun', 1e-3)\n",
    "    es = cma.CMAEvolutionStrategy(3 * [0], 2.5, opts)\n",
    "    es.optimize(lambda pars: modelFit2(pars, d1, trainingSet, False))\n",
    "    es.result_pretty()\n",
    "    \n",
    "    #paramEstimates = fit.x\n",
    "    \n",
    "    \n",
    "    #predict = modelFit2(paramEstimates, d1, [testSet], True)\n",
    "    #cvresults = {\"loo\": leaveoutindex, \"nLL\": predict[\"sumLogLoss\"], \"tau\": paramEstimates[0], \"lambda\": paramEstimates[1], \"beta\": paramEstimates[2]}\n",
    "    #return [cvresults, predict[\"predictions\"], predict[\"chosen\"]]"
   ]
  },
  {
   "cell_type": "code",
   "execution_count": null,
   "metadata": {
    "scrolled": false
   },
   "outputs": [
    {
     "name": "stdout",
     "output_type": "stream",
     "text": [
      "(3_w,7)-aCMA-ES (mu_w=2.3,w_1=58%) in dimension 3 (seed=168175, Tue Nov 16 08:21:31 2021)\n",
      "Iterat #Fevals   function value  axis ratio  sigma  min&max std  t[m:s]\n",
      "    1      7 5.900832292311934e+02 1.0e+00 2.72e+00  3e+00  3e+00 0:26.5\n",
      "    2     14 4.759448511338443e+02 1.7e+00 2.42e+00  2e+00  3e+00 0:52.1\n",
      "    3     21 5.543772920460609e+02 1.7e+00 2.44e+00  2e+00  3e+00 1:20.2\n",
      "    4     28 5.141549414573842e+02 1.8e+00 2.75e+00  2e+00  4e+00 1:48.2\n",
      "    5     35 4.756576874456733e+02 2.2e+00 2.62e+00  1e+00  4e+00 2:15.9\n",
      "    6     42 4.871415283084703e+02 2.9e+00 2.64e+00  1e+00  4e+00 2:43.1\n",
      "    7     49 4.752017388009087e+02 3.2e+00 2.84e+00  1e+00  4e+00 3:11.9\n",
      "    8     56 4.060568422934689e+02 3.7e+00 2.68e+00  1e+00  4e+00 3:39.8\n",
      "    9     63 4.098057393024183e+02 4.0e+00 2.45e+00  8e-01  3e+00 4:06.3\n",
      "   10     70 3.977212806429038e+02 5.0e+00 2.63e+00  7e-01  3e+00 4:33.1\n",
      "   11     77 4.727463904854616e+02 5.2e+00 2.27e+00  6e-01  3e+00 5:00.9\n",
      "   12     84 4.543398300698667e+02 4.7e+00 1.98e+00  4e-01  2e+00 5:33.0\n",
      "   13     91 4.334308659111324e+02 6.2e+00 2.26e+00  4e-01  3e+00 6:05.6\n",
      "   14     98 4.351823892889782e+02 8.5e+00 2.10e+00  3e-01  3e+00 6:38.5\n",
      "   15    105 4.013121580233633e+02 1.0e+01 1.93e+00  3e-01  3e+00 7:09.2\n",
      "   16    112 4.197930686669409e+02 1.1e+01 1.49e+00  2e-01  2e+00 7:40.0\n",
      "   17    119 4.032412558757470e+02 1.1e+01 1.16e+00  1e-01  2e+00 8:10.1\n",
      "   18    126 3.955235081363061e+02 1.4e+01 1.48e+00  2e-01  3e+00 8:40.7\n",
      "   19    133 3.985302000526850e+02 1.6e+01 1.32e+00  2e-01  2e+00 9:11.1\n",
      "   20    140 3.918773529318254e+02 1.6e+01 1.22e+00  1e-01  2e+00 9:41.4\n",
      "   21    147 3.943017841712802e+02 1.7e+01 1.15e+00  1e-01  2e+00 10:12.1\n",
      "   22    154 3.915260547081341e+02 1.9e+01 9.29e-01  1e-01  2e+00 10:42.3\n",
      "   23    161 3.887578102046023e+02 1.9e+01 7.97e-01  8e-02  1e+00 11:12.8\n",
      "   24    168 3.896150712314978e+02 1.9e+01 6.97e-01  7e-02  1e+00 11:43.1\n",
      "   25    175 3.873274918042001e+02 1.7e+01 8.20e-01  9e-02  1e+00 12:13.5\n",
      "   26    182 3.869966983102642e+02 1.4e+01 8.94e-01  1e-01  1e+00 12:44.2\n",
      "   27    189 3.876710831396989e+02 1.5e+01 9.40e-01  9e-02  2e+00 13:14.3\n",
      "   28    196 3.871906234344632e+02 1.8e+01 7.84e-01  7e-02  1e+00 13:44.7\n",
      "   29    203 3.872139273864510e+02 2.1e+01 7.54e-01  7e-02  1e+00 14:15.1\n",
      "   30    210 3.873747240643944e+02 2.2e+01 6.74e-01  5e-02  1e+00 14:45.3\n",
      "   31    217 3.869785072363259e+02 2.5e+01 5.72e-01  4e-02  1e+00 15:15.4\n",
      "   33    231 3.869302219720898e+02 2.7e+01 4.24e-01  3e-02  7e-01 16:15.9\n",
      "   35    245 3.868877016366348e+02 3.2e+01 2.95e-01  2e-02  5e-01 17:16.1\n",
      "   37    259 3.869137057605503e+02 3.7e+01 2.17e-01  1e-02  4e-01 18:16.9\n",
      "   39    273 3.868525825755878e+02 4.1e+01 2.30e-01  9e-03  5e-01 19:17.8\n",
      "   41    287 3.862572186625891e+02 7.9e+01 4.36e-01  2e-02  1e+00 20:18.6\n",
      "   43    301 3.867199734906491e+02 9.9e+01 5.64e-01  2e-02  2e+00 21:18.3\n",
      "   45    315 3.847522557319428e+02 1.2e+02 7.15e-01  2e-02  2e+00 22:16.3\n",
      "   47    329 3.847151545903515e+02 9.4e+01 9.39e-01  3e-02  2e+00 23:11.9\n",
      "   49    343 3.848848438079165e+02 7.8e+01 6.91e-01  2e-02  1e+00 24:02.5\n",
      "   51    357 3.843606586855612e+02 8.2e+01 5.71e-01  2e-02  1e+00 24:53.2\n",
      "   53    371 3.836801577798317e+02 6.1e+01 5.93e-01  2e-02  1e+00 25:43.8\n",
      "   55    385 3.827286589098612e+02 4.6e+01 9.31e-01  3e-02  1e+00 26:34.4\n",
      "   57    399 3.815975236330163e+02 3.8e+01 1.34e+00  5e-02  1e+00 27:25.0\n",
      "   59    413 3.828322474453776e+02 2.8e+01 1.26e+00  5e-02  1e+00 28:15.9\n",
      "   61    427 3.815364577567041e+02 2.6e+01 1.00e+00  4e-02  7e-01 29:06.5\n",
      "   63    441 3.828668963335423e+02 2.1e+01 8.81e-01  3e-02  5e-01 29:57.2\n",
      "   65    455 3.819392099979891e+02 2.0e+01 7.56e-01  2e-02  4e-01 30:49.7\n",
      "   67    469 3.814606838780318e+02 1.7e+01 6.72e-01  2e-02  3e-01 31:40.7\n",
      "   69    483 3.814102320999481e+02 1.2e+01 5.96e-01  2e-02  2e-01 32:32.1\n",
      "   71    497 3.811980062213952e+02 9.7e+00 6.74e-01  2e-02  2e-01 33:22.8\n",
      "   74    518 3.811683984804113e+02 6.3e+00 5.59e-01  1e-02  1e-01 34:38.7\n",
      "   77    539 3.808124097937044e+02 6.9e+00 6.47e-01  2e-02  1e-01 35:56.2\n",
      "   80    560 3.809542850843993e+02 7.8e+00 6.37e-01  2e-02  1e-01 37:13.0\n",
      "   83    581 3.807837058425439e+02 7.6e+00 5.08e-01  1e-02  8e-02 38:30.4\n",
      "   86    602 3.807452585809096e+02 7.5e+00 5.35e-01  2e-02  7e-02 39:46.4\n",
      "   89    623 3.807470036397017e+02 8.0e+00 3.75e-01  1e-02  4e-02 41:02.3\n",
      "   92    644 3.807430691493309e+02 9.4e+00 3.06e-01  8e-03  3e-02 42:17.5\n",
      "   95    665 3.807421527381638e+02 6.3e+00 2.02e-01  4e-03  1e-02 43:32.5\n",
      "   98    686 3.807419843603334e+02 6.4e+00 1.39e-01  2e-03  8e-03 44:48.6\n"
     ]
    }
   ],
   "source": [
    "start = timer()\n",
    "cv = cvfunc2(df, \"Spatial\", 1, 0)\n",
    "end = timer()\n",
    "print(end - start)"
   ]
  },
  {
   "cell_type": "code",
   "execution_count": 34,
   "metadata": {
    "scrolled": false
   },
   "outputs": [
    {
     "name": "stdout",
     "output_type": "stream",
     "text": [
      "differential_evolution step 1: f(x)= 422.388\n",
      "differential_evolution step 2: f(x)= 401.834\n",
      "differential_evolution step 3: f(x)= 401.834\n",
      "differential_evolution step 4: f(x)= 401.834\n",
      "differential_evolution step 5: f(x)= 386.899\n",
      "differential_evolution step 6: f(x)= 384.805\n",
      "differential_evolution step 7: f(x)= 384.805\n",
      "differential_evolution step 8: f(x)= 380.769\n",
      "differential_evolution step 9: f(x)= 380.769\n",
      "differential_evolution step 10: f(x)= 380.769\n",
      "differential_evolution step 11: f(x)= 380.769\n",
      "differential_evolution step 12: f(x)= 380.769\n",
      "differential_evolution step 13: f(x)= 380.769\n",
      "     fun: 380.741058209749\n",
      "     jac: array([0.11732482, 0.04566232, 0.19019808])\n",
      " message: 'Optimization terminated successfully.'\n",
      "    nfev: 762\n",
      "     nit: 13\n",
      " success: True\n",
      "       x: array([-2.6929985 , -2.20447288,  0.02291427])\n",
      "2967.131356516\n"
     ]
    }
   ],
   "source": [
    "start = timer()\n",
    "cv = cvfunc(df, \"Spatial\", 1, 0)\n",
    "end = timer()\n",
    "print(end - start)"
   ]
  },
  {
   "cell_type": "code",
   "execution_count": 35,
   "metadata": {},
   "outputs": [
    {
     "data": {
      "text/plain": [
       "array([0.0676777 , 0.11030866, 1.02317882])"
      ]
     },
     "execution_count": 35,
     "metadata": {},
     "output_type": "execute_result"
    }
   ],
   "source": [
    "# Same result as in the original paper\n",
    "np.exp([-2.6929985 , -2.20447288,  0.02291427])"
   ]
  },
  {
   "cell_type": "code",
   "execution_count": 65,
   "metadata": {},
   "outputs": [
    {
     "name": "stdout",
     "output_type": "stream",
     "text": [
      "9/9\n",
      "14024.757741057998\n"
     ]
    }
   ],
   "source": [
    "# Cross validation\n",
    "start = timer()\n",
    "\n",
    "crossvalidation = [0]*9\n",
    "modelPrediction = [np.zeros((19,64)) for x in range(9)]\n",
    "chosenMatrix = np.zeros((9,19))\n",
    "\n",
    "print(\"0/9\")\n",
    "for loo in range(9):\n",
    "    cv = cvfunc(data=df, task=\"Conceptual\", selector = 1, leaveoutindex=loo)\n",
    "    crossvalidation[loo] = cv[0]\n",
    "    modelPrediction[loo] = cv[1]\n",
    "    chosenMatrix[loo,:] = cv[2]\n",
    "    clear_output(wait=True)\n",
    "    print(str(loo+1) + \"/9\")\n",
    "end = timer()\n",
    "print(end - start)"
   ]
  },
  {
   "cell_type": "code",
   "execution_count": 66,
   "metadata": {},
   "outputs": [
    {
     "name": "stdout",
     "output_type": "stream",
     "text": [
      "[{'loo': 0, 'nLL': 64.69578615321979, 'tau': -1.7359799346259148, 'lambda': 1.2526199792066952, 'beta': 2.816470433741199}, {'loo': 1, 'nLL': 53.25192536013484, 'tau': -1.514800608581477, 'lambda': 1.0510893139426847, 'beta': -1.5199827375408197}, {'loo': 2, 'nLL': 53.63567414607466, 'tau': -1.4809955471101384, 'lambda': 1.0289185606200715, 'beta': 0.3203988646542033}, {'loo': 3, 'nLL': 54.106591870775375, 'tau': -1.4681311857985988, 'lambda': 1.0472333021121056, 'beta': 0.11875721084958935}, {'loo': 4, 'nLL': 51.62553544067555, 'tau': -1.4442281513708581, 'lambda': 0.9718984196096366, 'beta': 2.490497801174365}, {'loo': 5, 'nLL': 55.648868256320476, 'tau': -1.508485452508975, 'lambda': 1.044129880935834, 'beta': -1.393809405923524}, {'loo': 6, 'nLL': 52.444721066050434, 'tau': -1.462763140519846, 'lambda': 1.0472344877805342, 'beta': -2.464177746122756}, {'loo': 7, 'nLL': 50.860244403557935, 'tau': -1.4286421661134918, 'lambda': 1.047241242497942, 'beta': -3.3774076254259127}, {'loo': 8, 'nLL': 54.70135199102931, 'tau': -1.5112198425663128, 'lambda': 1.0324534094954971, 'beta': -0.7218625327407147}]\n"
     ]
    }
   ],
   "source": [
    "print(crossvalidation)"
   ]
  }
 ],
 "metadata": {
  "kernelspec": {
   "display_name": "Python 3",
   "language": "python",
   "name": "python3"
  },
  "language_info": {
   "codemirror_mode": {
    "name": "ipython",
    "version": 3
   },
   "file_extension": ".py",
   "mimetype": "text/x-python",
   "name": "python",
   "nbconvert_exporter": "python",
   "pygments_lexer": "ipython3",
   "version": "3.8.3"
  }
 },
 "nbformat": 4,
 "nbformat_minor": 4
}
