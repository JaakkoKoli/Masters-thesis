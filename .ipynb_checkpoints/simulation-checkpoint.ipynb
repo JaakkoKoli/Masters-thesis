{
 "cells": [
  {
   "cell_type": "code",
   "execution_count": 12,
   "metadata": {},
   "outputs": [],
   "source": [
    "from functions.dataProcessing import *\n",
    "from functions.kernels import *\n",
    "from functions.models import *\n",
    "from functions.acquisitionFunctions import *\n",
    "from timeit import default_timer as timer\n",
    "\n",
    "df = readData()"
   ]
  },
  {
   "cell_type": "code",
   "execution_count": 13,
   "metadata": {},
   "outputs": [],
   "source": [
    "f = open(\"experiment/roughEnvironment.json\")\n",
    "roughEnvironments = json.load(f)\n",
    "f.close()\n",
    "f = open(\"experiment/smoothEnvironment.json\")\n",
    "smoothEnvironments = json.load(f)\n",
    "f.close()\n",
    "\n",
    "gpPars = pd.read_csv(\"rationalModels/parameters/gpucb.csv\", sep=\",\")"
   ]
  },
  {
   "cell_type": "code",
   "execution_count": 1,
   "metadata": {},
   "outputs": [],
   "source": [
    "from IPython.display import clear_output\n",
    "\n",
    "def gprDF(replications=100):\n",
    "    columns = [\"trial\", \"environment\", \"context\", \"meanReward\", \"meanSE\"]\n",
    "    gprdf = {\"trial\": [x for x2 in range(4) for x in range(20)],\n",
    "               \"environment\": ([\"Smooth\"]*20 + [\"Rough\"]*20)*2,\n",
    "               \"context\": [\"Conceptual\"]*40 + [\"Spatial\"]*40,\n",
    "               \"meanReward\": np.array([]),\n",
    "               \"meanSE\": np.array([])}\n",
    "    smoothTotal = 0\n",
    "    roughTotal = 0\n",
    "    choices = [[x2, x1] for x1 in range(8) for x2 in range(8)]\n",
    "\n",
    "    for task in [\"Conceptual\", \"Spatial\"]:\n",
    "        smoothPars = gpPars.loc[(gpPars[\"environment\"] == \"Smooth\") & (gpPars[\"context\"] == task)]\n",
    "        roughPars = gpPars.loc[(gpPars[\"environment\"] == \"Rough\") & (gpPars[\"context\"] == task)]\n",
    "        for x in range(replications):\n",
    "            # Smooth\n",
    "            params = smoothPars.iloc[np.random.randint(0,np.shape(smoothPars)[0]),:]\n",
    "            lam = params[\"lambda\"]\n",
    "            beta = params[\"beta\"]\n",
    "            tau = params[\"tau\"]\n",
    "            envNum = np.random.randint(0,40)\n",
    "            location = np.random.randint(0,64)\n",
    "            x1 = [choices[location][0]]\n",
    "            x2 = [choices[location][1]]\n",
    "            smoothReward = [[1]]*20\n",
    "            Y = [smoothEnvironments[str(envNum)][str(location)][\"y\"]*100]\n",
    "            smoothReward[0] = Y[0]\n",
    "            for i in range(19):\n",
    "                j = i+1\n",
    "                post = gpr(choices, [lam, lam, 1, 0.0001], np.column_stack((x1, x2)), (np.matrix(Y)-50)/100, rbf)\n",
    "                utilityVec = ucb(post, [beta])\n",
    "                utilityVec = utilityVec - np.max(utilityVec)\n",
    "                p = np.exp(utilityVec/tau)\n",
    "                p = p/np.sum(p)\n",
    "                location = np.random.choice(range(64), 1, True, p.tolist()[0])[0]\n",
    "                smoothReward[j] = smoothEnvironments[str(envNum)][str(location)][\"y\"]*100\n",
    "                x1 = x1 + [choices[location][0]]\n",
    "                x2 = x2 + [choices[location][1]]\n",
    "                Y = Y + [smoothReward[j]]\n",
    "            if x == 0 and task == \"Conceptual\":\n",
    "                smoothTotal = smoothReward\n",
    "            else:\n",
    "                smoothTotal = np.column_stack((smoothTotal, smoothReward))\n",
    "\n",
    "            # Rough\n",
    "            params = roughPars.iloc[np.random.randint(0,np.shape(roughPars)[0]),:]\n",
    "            lam = params[\"lambda\"]\n",
    "            beta = params[\"beta\"]\n",
    "            tau = params[\"tau\"]\n",
    "            envNum = np.random.randint(0,40)\n",
    "            location = np.random.randint(0,64)\n",
    "            x1 = [choices[location][0]]\n",
    "            x2 = [choices[location][1]]\n",
    "            roughReward = [[1]]*20\n",
    "            Y = [roughEnvironments[str(envNum)][str(location)][\"y\"]*100]\n",
    "            roughReward[0] = Y[0]\n",
    "            for i in range(19):\n",
    "                j = i+1\n",
    "                post = gpr(choices, [lam, lam, 1, 0.0001], np.column_stack((x1, x2)), (np.matrix(Y)-50)/100, rbf)\n",
    "                utilityVec = ucb(post, [beta])\n",
    "                utilityVec = utilityVec - np.max(utilityVec)\n",
    "                p = np.exp(utilityVec/tau)\n",
    "                p = p/np.sum(p)\n",
    "                location = np.random.choice(range(64), 1, True, p.tolist()[0])[0]\n",
    "                roughReward[j] = roughEnvironments[str(envNum)][str(location)][\"y\"]*100\n",
    "                x1 = x1 + [choices[location][0]]\n",
    "                x2 = x2 + [choices[location][1]]\n",
    "                Y = Y + [roughReward[j]]\n",
    "            if x == 0 and task == \"Conceptual\":\n",
    "                roughTotal = roughReward\n",
    "            else:\n",
    "                roughTotal = np.column_stack((roughTotal, roughReward))\n",
    "\n",
    "            clear_output(wait=True)\n",
    "            print(task + \": \" + str(x+1) + \"/\" + str(replications))\n",
    "\n",
    "        if task == \"Conceptual\":\n",
    "            gprdf[\"meanReward\"] = np.concatenate((smoothTotal.mean(1), roughTotal.mean(1)))\n",
    "            gprdf[\"meanSE\"] = np.concatenate((smoothTotal.std(1)/np.sqrt(np.shape(smoothTotal)[0]), roughTotal.std(1)/np.sqrt(np.shape(roughTotal)[0])))\n",
    "        else:\n",
    "            gprdf[\"meanReward\"] = np.concatenate((gprdf[\"meanReward\"], smoothTotal.mean(1), roughTotal.mean(1)))\n",
    "            gprdf[\"meanSE\"] = np.concatenate((gprdf[\"meanSE\"], smoothTotal.std(1)/np.sqrt(np.shape(smoothTotal)[0]), roughTotal.std(1)/np.sqrt(np.shape(roughTotal)[0])))\n",
    "    return gprdf"
   ]
  },
  {
   "cell_type": "code",
   "execution_count": 15,
   "metadata": {},
   "outputs": [
    {
     "name": "stdout",
     "output_type": "stream",
     "text": [
      "Spatial: 10/10\n",
      "22.377263172000312\n"
     ]
    }
   ],
   "source": [
    "start = timer()\n",
    "gprdf = gprDF(10)\n",
    "end = timer()\n",
    "print(end - start)"
   ]
  }
 ],
 "metadata": {
  "kernelspec": {
   "display_name": "Python 3",
   "language": "python",
   "name": "python3"
  },
  "language_info": {
   "codemirror_mode": {
    "name": "ipython",
    "version": 3
   },
   "file_extension": ".py",
   "mimetype": "text/x-python",
   "name": "python",
   "nbconvert_exporter": "python",
   "pygments_lexer": "ipython3",
   "version": "3.8.3"
  }
 },
 "nbformat": 4,
 "nbformat_minor": 4
}
